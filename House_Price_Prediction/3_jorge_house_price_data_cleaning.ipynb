{
 "cells": [
  {
   "cell_type": "code",
   "execution_count": 1,
   "metadata": {},
   "outputs": [],
   "source": [
    "import numpy as np\n",
    "import pandas as pd\n",
    "\n",
    "from house_prices import to_list_obj, to_list_miss\n",
    "\n",
    "import seaborn as sbn\n",
    "import matplotlib.pyplot as plt"
   ]
  },
  {
   "cell_type": "code",
   "execution_count": 2,
   "metadata": {},
   "outputs": [],
   "source": [
    "file = 'x_train.csv'"
   ]
  },
  {
   "cell_type": "code",
   "execution_count": 3,
   "metadata": {},
   "outputs": [],
   "source": [
    "data = pd.read_csv(file)"
   ]
  },
  {
   "cell_type": "code",
   "execution_count": 6,
   "metadata": {},
   "outputs": [
    {
     "name": "stdout",
     "output_type": "stream",
     "text": [
      "Missing Features: \n",
      "-LotFrontage\n",
      "-Alley\n",
      "-MasVnrType\n",
      "-MasVnrArea\n",
      "-BsmtQual\n",
      "-BsmtCond\n",
      "-BsmtExposure\n",
      "-BsmtFinType1\n",
      "-BsmtFinType2\n",
      "-Electrical\n",
      "-FireplaceQu\n",
      "-GarageType\n",
      "-GarageYrBlt\n",
      "-GarageFinish\n",
      "-GarageQual\n",
      "-GarageCond\n",
      "-PoolQC\n",
      "-Fence\n",
      "-MiscFeature\n"
     ]
    },
    {
     "data": {
      "text/plain": [
       "19"
      ]
     },
     "execution_count": 6,
     "metadata": {},
     "output_type": "execute_result"
    }
   ],
   "source": [
    "feat_mis, n_mis = to_list_miss(data, do_print = True);\n",
    "n_mis"
   ]
  },
  {
   "cell_type": "code",
   "execution_count": 7,
   "metadata": {},
   "outputs": [
    {
     "name": "stdout",
     "output_type": "stream",
     "text": [
      "Object Features: \n",
      "-Alley\n",
      "-MasVnrType\n",
      "-BsmtQual\n",
      "-BsmtCond\n",
      "-BsmtExposure\n",
      "-BsmtFinType1\n",
      "-BsmtFinType2\n",
      "-Electrical\n",
      "-FireplaceQu\n",
      "-GarageType\n",
      "-GarageFinish\n",
      "-GarageQual\n",
      "-GarageCond\n",
      "-PoolQC\n",
      "-Fence\n",
      "-MiscFeature\n"
     ]
    }
   ],
   "source": [
    "feat_obj, n_obj = to_list_obj(data[feat_mis], do_print = True)"
   ]
  },
  {
   "cell_type": "code",
   "execution_count": 8,
   "metadata": {},
   "outputs": [
    {
     "data": {
      "text/plain": [
       "Alley           1369\n",
       "MasVnrType         8\n",
       "BsmtQual          37\n",
       "BsmtCond          37\n",
       "BsmtExposure      38\n",
       "BsmtFinType1      37\n",
       "BsmtFinType2      38\n",
       "Electrical         1\n",
       "FireplaceQu      690\n",
       "GarageType        81\n",
       "GarageFinish      81\n",
       "GarageQual        81\n",
       "GarageCond        81\n",
       "PoolQC          1453\n",
       "Fence           1179\n",
       "MiscFeature     1406\n",
       "dtype: int64"
      ]
     },
     "execution_count": 8,
     "metadata": {},
     "output_type": "execute_result"
    }
   ],
   "source": [
    "data.isna().sum()[feat_obj]"
   ]
  },
  {
   "cell_type": "code",
   "execution_count": 9,
   "metadata": {},
   "outputs": [
    {
     "name": "stdout",
     "output_type": "stream",
     "text": [
      "[nan 'Grvl' 'Pave']\n",
      "[nan 'TA' 'Gd' 'Fa' 'Ex' 'Po']\n",
      "[nan 'Ex' 'Fa' 'Gd']\n",
      "[nan 'MnPrv' 'GdWo' 'GdPrv' 'MnWw']\n",
      "[nan 'Shed' 'Gar2' 'Othr' 'TenC']\n"
     ]
    }
   ],
   "source": [
    "print(data['Alley'].unique())\n",
    "print(data['FireplaceQu'].unique())\n",
    "print(data['PoolQC'].unique())\n",
    "print(data['Fence'].unique())\n",
    "print(data['MiscFeature'].unique())"
   ]
  },
  {
   "cell_type": "code",
   "execution_count": 10,
   "metadata": {},
   "outputs": [
    {
     "data": {
      "text/html": [
       "<div>\n",
       "<style scoped>\n",
       "    .dataframe tbody tr th:only-of-type {\n",
       "        vertical-align: middle;\n",
       "    }\n",
       "\n",
       "    .dataframe tbody tr th {\n",
       "        vertical-align: top;\n",
       "    }\n",
       "\n",
       "    .dataframe thead th {\n",
       "        text-align: right;\n",
       "    }\n",
       "</style>\n",
       "<table border=\"1\" class=\"dataframe\">\n",
       "  <thead>\n",
       "    <tr style=\"text-align: right;\">\n",
       "      <th></th>\n",
       "      <th>Alley</th>\n",
       "      <th>MasVnrType</th>\n",
       "      <th>BsmtQual</th>\n",
       "      <th>BsmtCond</th>\n",
       "      <th>BsmtExposure</th>\n",
       "      <th>BsmtFinType1</th>\n",
       "      <th>BsmtFinType2</th>\n",
       "      <th>Electrical</th>\n",
       "      <th>FireplaceQu</th>\n",
       "      <th>GarageType</th>\n",
       "      <th>GarageFinish</th>\n",
       "      <th>GarageQual</th>\n",
       "      <th>GarageCond</th>\n",
       "      <th>PoolQC</th>\n",
       "      <th>Fence</th>\n",
       "      <th>MiscFeature</th>\n",
       "    </tr>\n",
       "  </thead>\n",
       "  <tbody>\n",
       "    <tr>\n",
       "      <th>count</th>\n",
       "      <td>91</td>\n",
       "      <td>1452</td>\n",
       "      <td>1423</td>\n",
       "      <td>1423</td>\n",
       "      <td>1422</td>\n",
       "      <td>1423</td>\n",
       "      <td>1422</td>\n",
       "      <td>1459</td>\n",
       "      <td>770</td>\n",
       "      <td>1379</td>\n",
       "      <td>1379</td>\n",
       "      <td>1379</td>\n",
       "      <td>1379</td>\n",
       "      <td>7</td>\n",
       "      <td>281</td>\n",
       "      <td>54</td>\n",
       "    </tr>\n",
       "    <tr>\n",
       "      <th>unique</th>\n",
       "      <td>2</td>\n",
       "      <td>4</td>\n",
       "      <td>4</td>\n",
       "      <td>4</td>\n",
       "      <td>4</td>\n",
       "      <td>6</td>\n",
       "      <td>6</td>\n",
       "      <td>5</td>\n",
       "      <td>5</td>\n",
       "      <td>6</td>\n",
       "      <td>3</td>\n",
       "      <td>5</td>\n",
       "      <td>5</td>\n",
       "      <td>3</td>\n",
       "      <td>4</td>\n",
       "      <td>4</td>\n",
       "    </tr>\n",
       "    <tr>\n",
       "      <th>top</th>\n",
       "      <td>Grvl</td>\n",
       "      <td>None</td>\n",
       "      <td>TA</td>\n",
       "      <td>TA</td>\n",
       "      <td>No</td>\n",
       "      <td>Unf</td>\n",
       "      <td>Unf</td>\n",
       "      <td>SBrkr</td>\n",
       "      <td>Gd</td>\n",
       "      <td>Attchd</td>\n",
       "      <td>Unf</td>\n",
       "      <td>TA</td>\n",
       "      <td>TA</td>\n",
       "      <td>Gd</td>\n",
       "      <td>MnPrv</td>\n",
       "      <td>Shed</td>\n",
       "    </tr>\n",
       "    <tr>\n",
       "      <th>freq</th>\n",
       "      <td>50</td>\n",
       "      <td>864</td>\n",
       "      <td>649</td>\n",
       "      <td>1311</td>\n",
       "      <td>953</td>\n",
       "      <td>430</td>\n",
       "      <td>1256</td>\n",
       "      <td>1334</td>\n",
       "      <td>380</td>\n",
       "      <td>870</td>\n",
       "      <td>605</td>\n",
       "      <td>1311</td>\n",
       "      <td>1326</td>\n",
       "      <td>3</td>\n",
       "      <td>157</td>\n",
       "      <td>49</td>\n",
       "    </tr>\n",
       "  </tbody>\n",
       "</table>\n",
       "</div>"
      ],
      "text/plain": [
       "       Alley MasVnrType BsmtQual BsmtCond BsmtExposure BsmtFinType1  \\\n",
       "count     91       1452     1423     1423         1422         1423   \n",
       "unique     2          4        4        4            4            6   \n",
       "top     Grvl       None       TA       TA           No          Unf   \n",
       "freq      50        864      649     1311          953          430   \n",
       "\n",
       "       BsmtFinType2 Electrical FireplaceQu GarageType GarageFinish GarageQual  \\\n",
       "count          1422       1459         770       1379         1379       1379   \n",
       "unique            6          5           5          6            3          5   \n",
       "top             Unf      SBrkr          Gd     Attchd          Unf         TA   \n",
       "freq           1256       1334         380        870          605       1311   \n",
       "\n",
       "       GarageCond PoolQC  Fence MiscFeature  \n",
       "count        1379      7    281          54  \n",
       "unique          5      3      4           4  \n",
       "top            TA     Gd  MnPrv        Shed  \n",
       "freq         1326      3    157          49  "
      ]
     },
     "execution_count": 10,
     "metadata": {},
     "output_type": "execute_result"
    }
   ],
   "source": [
    "data[feat_obj].describe()"
   ]
  },
  {
   "cell_type": "code",
   "execution_count": 11,
   "metadata": {},
   "outputs": [],
   "source": [
    "data['Alley'].fillna('No Alley', inplace = True)\n",
    "data['FireplaceQu'].fillna('NFp', inplace = True)\n",
    "data['PoolQC'].fillna('NP', inplace = True)\n",
    "data['Fence'].fillna('NF', inplace = True)\n",
    "data['MiscFeature'].fillna('Non', inplace = True)"
   ]
  },
  {
   "cell_type": "code",
   "execution_count": 12,
   "metadata": {},
   "outputs": [],
   "source": [
    "feat_obj, n_obj = to_list_obj(data[feat_mis])"
   ]
  },
  {
   "cell_type": "code",
   "execution_count": 13,
   "metadata": {},
   "outputs": [],
   "source": [
    "top_cat = data[feat_obj].describe().loc['top']"
   ]
  },
  {
   "cell_type": "code",
   "execution_count": 14,
   "metadata": {},
   "outputs": [],
   "source": [
    "for f in feat_obj:\n",
    "    data[f].fillna(top_cat[f], inplace = True)"
   ]
  },
  {
   "cell_type": "code",
   "execution_count": 15,
   "metadata": {},
   "outputs": [
    {
     "name": "stdout",
     "output_type": "stream",
     "text": [
      "Object Features: \n"
     ]
    }
   ],
   "source": [
    "feat_mis, n_mis = to_list_miss(data, do_print = False);\n",
    "feat_obj, n_obj = to_list_obj(data[feat_mis], do_print = True)"
   ]
  },
  {
   "cell_type": "code",
   "execution_count": 16,
   "metadata": {},
   "outputs": [
    {
     "data": {
      "text/plain": [
       "LotFrontage    259\n",
       "MasVnrArea       8\n",
       "GarageYrBlt     81\n",
       "dtype: int64"
      ]
     },
     "execution_count": 16,
     "metadata": {},
     "output_type": "execute_result"
    }
   ],
   "source": [
    "data.isna().sum()[feat_mis]"
   ]
  },
  {
   "cell_type": "code",
   "execution_count": 17,
   "metadata": {},
   "outputs": [],
   "source": [
    "fill_zero = ['MasVnrArea', 'BsmtFinSF1', \n",
    "             'BsmtFinSF2', 'TotalBsmtSF',\n",
    "             'BsmtFullBath','BsmtHalfBath',\n",
    "             'GarageArea'\n",
    "            ]\n",
    "\n",
    "fill_mean = ['LotFrontage', 'GarageYrBlt']\n",
    "\n",
    "for f in fill_zero:\n",
    "    data[f].fillna(0, inplace = True)\n",
    "\n",
    "for f in fill_mean:\n",
    "    m = data[f].mean()\n",
    "    data[f].fillna(m, inplace = True)\n",
    "\n",
    "data.drop(['BsmtUnfSF', 'GarageCars'], axis = 1, inplace = True)"
   ]
  },
  {
   "cell_type": "code",
   "execution_count": 18,
   "metadata": {},
   "outputs": [
    {
     "name": "stdout",
     "output_type": "stream",
     "text": [
      "Missing Features: \n"
     ]
    }
   ],
   "source": [
    "to_list_miss(data, do_print=True);"
   ]
  },
  {
   "cell_type": "code",
   "execution_count": 19,
   "metadata": {},
   "outputs": [],
   "source": [
    "data.to_csv('final_'+file, index = False)"
   ]
  },
  {
   "cell_type": "code",
   "execution_count": 20,
   "metadata": {},
   "outputs": [],
   "source": [
    "feat_obj, _ = to_list_obj(data)"
   ]
  },
  {
   "cell_type": "code",
   "execution_count": 21,
   "metadata": {},
   "outputs": [],
   "source": [
    "each_cat_list = []\n",
    "for f in feat_obj:\n",
    "    unq = list(data[f].unique());\n",
    "#     print(f+'=[\\'' , end = '')\n",
    "#     print(*unq, sep = '\\',\\'', end = '')\n",
    "#     print('\\'];')\n",
    "    each_cat_list += list(f+'=[')\n",
    "    for u in unq[:-1]:\n",
    "        each_cat_list += '\\''\n",
    "        each_cat_list += list(u)\n",
    "        each_cat_list += '\\','\n",
    "    each_cat_list += '\\''\n",
    "    each_cat_list += list(unq[-1])\n",
    "    each_cat_list += '\\'];'\n",
    "\n",
    "each_cat_str = '';\n",
    "for l in each_cat_list:\n",
    "    each_cat_str += l\n",
    "\n",
    "exec(each_cat_str)\n",
    "\n",
    "list_cat = list('list_categorie = [')\n",
    "for f in feat_obj:\n",
    "    list_cat += f+',' \n",
    "list_cat[-1] = ']'\n",
    "\n",
    "str_cat = ''\n",
    "for l in list_cat:\n",
    "    str_cat += l\n",
    "\n",
    "exec(str_cat)\n",
    "\n",
    "list_cat = list('list_categorie = [')\n",
    "for f in feat_obj:\n",
    "    list_cat += f+',' \n",
    "list_cat[-1] = ']'\n",
    "\n",
    "str_cat = ''\n",
    "for l in list_cat:\n",
    "    str_cat += l\n",
    "\n",
    "exec(str_cat)"
   ]
  },
  {
   "cell_type": "code",
   "execution_count": 22,
   "metadata": {},
   "outputs": [],
   "source": [
    "from pickle import dump\n",
    "lf = open('list_of_all_categoies','wb');\n",
    "dump(list_categorie, lf)\n",
    "lf.close()"
   ]
  }
 ],
 "metadata": {
  "kernelspec": {
   "display_name": "Python 3",
   "language": "python",
   "name": "python3"
  },
  "language_info": {
   "codemirror_mode": {
    "name": "ipython",
    "version": 3
   },
   "file_extension": ".py",
   "mimetype": "text/x-python",
   "name": "python",
   "nbconvert_exporter": "python",
   "pygments_lexer": "ipython3",
   "version": "3.7.2"
  }
 },
 "nbformat": 4,
 "nbformat_minor": 2
}
