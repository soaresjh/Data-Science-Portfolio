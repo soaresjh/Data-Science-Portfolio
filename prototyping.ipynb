{
 "cells": [
  {
   "cell_type": "code",
   "execution_count": null,
   "metadata": {},
   "outputs": [],
   "source": [
    "%load_ext autoreload\n",
    "%autoreload 2"
   ]
  },
  {
   "cell_type": "code",
   "execution_count": 91,
   "metadata": {},
   "outputs": [],
   "source": [
    "import pandas as pd\n",
    "import numpy as np\n",
    "import re"
   ]
  },
  {
   "cell_type": "code",
   "execution_count": 92,
   "metadata": {},
   "outputs": [],
   "source": [
    "from sklearn.model_selection import train_test_split\n",
    "\n",
    "from sklearn.linear_model import LogisticRegressionCV\n",
    "from sklearn.neural_network import MLPClassifier\n",
    "from sklearn.ensemble import RandomForestClassifier\n",
    "\n",
    "\n",
    "from sklearn.preprocessing import OneHotEncoder\n",
    "from sklearn.preprocessing import StandardScaler\n",
    "\n",
    "from sklearn.pipeline import Pipeline, FeatureUnion"
   ]
  },
  {
   "cell_type": "code",
   "execution_count": 93,
   "metadata": {},
   "outputs": [],
   "source": [
    "from mlxtend.feature_selection import ColumnSelector"
   ]
  },
  {
   "cell_type": "code",
   "execution_count": 94,
   "metadata": {},
   "outputs": [],
   "source": [
    "df = pd.read_csv('dataset.csv').fillna('None')"
   ]
  },
  {
   "cell_type": "code",
   "execution_count": 95,
   "metadata": {},
   "outputs": [],
   "source": [
    "df.drop(['CONTENT_LENGTH', 'URL', 'WHOIS_UPDATED_DATE', 'WHOIS_REGDATE'], axis = 1, inplace = True);"
   ]
  },
  {
   "cell_type": "code",
   "execution_count": 96,
   "metadata": {},
   "outputs": [],
   "source": [
    "def is_in_list(x, listed):\n",
    "    if x in listed:\n",
    "        return x\n",
    "    else:\n",
    "        return 'other'"
   ]
  },
  {
   "cell_type": "code",
   "execution_count": 97,
   "metadata": {},
   "outputs": [],
   "source": [
    "def server(string):\n",
    "    string = string.lower()\n",
    "    regex_exp = r'(apache|nginx|microsoft)([^\\/]+|)(\\/|)(\\d+\\.|\\d+\\b|)+'\n",
    "    found = re.search(regex_exp,\n",
    "                      string)\n",
    "    if found:\n",
    "        server = found.group(0).replace(found.group(2),'')\n",
    "    else:\n",
    "        server = 'none'\n",
    "    return server"
   ]
  },
  {
   "cell_type": "code",
   "execution_count": 98,
   "metadata": {},
   "outputs": [],
   "source": [
    "df['SERVER'] = df['SERVER'].apply(server)\n",
    "df['DNS_QUERY_TIMES'] = df['DNS_QUERY_TIMES'].replace('None','0').astype(float)"
   ]
  },
  {
   "cell_type": "code",
   "execution_count": 99,
   "metadata": {},
   "outputs": [],
   "source": [
    "WHOIS_COUNTRY_keep  = ['none','es', 'us', 'cz', 'ru', 'gb', 'cn']\n",
    "WHOIS_STATEPRO_keep = ['none',\n",
    "                       'barcelona',\n",
    "                       'utah',\n",
    "                       'california',\n",
    "                       'praha',\n",
    "                       'wc1n',\n",
    "                       'krasnoyarsk',\n",
    "                       'ca',\n",
    "                       'pa',\n",
    "                       'washington',\n",
    "                       'wa',\n",
    "                       'panama',\n",
    "                       'arizona',\n",
    "                       'on',\n",
    "                       'montevideo',\n",
    "                       'beijingshi']"
   ]
  },
  {
   "cell_type": "code",
   "execution_count": 100,
   "metadata": {},
   "outputs": [],
   "source": [
    "df['WHOIS_COUNTRY'] = df['WHOIS_COUNTRY'].str.lower().apply(is_in_list, args = (WHOIS_COUNTRY_keep,))\n",
    "df['WHOIS_STATEPRO'] = df['WHOIS_STATEPRO'].str.lower().apply(is_in_list, args = (WHOIS_STATEPRO_keep,))"
   ]
  },
  {
   "cell_type": "code",
   "execution_count": 101,
   "metadata": {},
   "outputs": [
    {
     "data": {
      "text/html": [
       "<div>\n",
       "<style scoped>\n",
       "    .dataframe tbody tr th:only-of-type {\n",
       "        vertical-align: middle;\n",
       "    }\n",
       "\n",
       "    .dataframe tbody tr th {\n",
       "        vertical-align: top;\n",
       "    }\n",
       "\n",
       "    .dataframe thead th {\n",
       "        text-align: right;\n",
       "    }\n",
       "</style>\n",
       "<table border=\"1\" class=\"dataframe\">\n",
       "  <thead>\n",
       "    <tr style=\"text-align: right;\">\n",
       "      <th></th>\n",
       "      <th>CHARSET</th>\n",
       "      <th>SERVER</th>\n",
       "      <th>WHOIS_COUNTRY</th>\n",
       "      <th>WHOIS_STATEPRO</th>\n",
       "    </tr>\n",
       "  </thead>\n",
       "  <tbody>\n",
       "    <tr>\n",
       "      <th>count</th>\n",
       "      <td>1781</td>\n",
       "      <td>1781</td>\n",
       "      <td>1781</td>\n",
       "      <td>1781</td>\n",
       "    </tr>\n",
       "    <tr>\n",
       "      <th>unique</th>\n",
       "      <td>9</td>\n",
       "      <td>77</td>\n",
       "      <td>8</td>\n",
       "      <td>17</td>\n",
       "    </tr>\n",
       "    <tr>\n",
       "      <th>top</th>\n",
       "      <td>UTF-8</td>\n",
       "      <td>none</td>\n",
       "      <td>us</td>\n",
       "      <td>other</td>\n",
       "    </tr>\n",
       "    <tr>\n",
       "      <th>freq</th>\n",
       "      <td>676</td>\n",
       "      <td>504</td>\n",
       "      <td>1106</td>\n",
       "      <td>664</td>\n",
       "    </tr>\n",
       "  </tbody>\n",
       "</table>\n",
       "</div>"
      ],
      "text/plain": [
       "       CHARSET SERVER WHOIS_COUNTRY WHOIS_STATEPRO\n",
       "count     1781   1781          1781           1781\n",
       "unique       9     77             8             17\n",
       "top      UTF-8   none            us          other\n",
       "freq       676    504          1106            664"
      ]
     },
     "execution_count": 101,
     "metadata": {},
     "output_type": "execute_result"
    }
   ],
   "source": [
    "df.describe(include=object)"
   ]
  },
  {
   "cell_type": "code",
   "execution_count": 102,
   "metadata": {},
   "outputs": [],
   "source": [
    "cat = df.select_dtypes(object).columns.tolist()\n",
    "num = df.drop('Type', axis = 1).select_dtypes(exclude = object).columns.tolist()\n",
    "transform = FeatureUnion([\n",
    "                        ('encoder',   Pipeline([\n",
    "                            ('select_columns', ColumnSelector(cat)),\n",
    "                            ('compress_feature', OneHotEncoder(handle_unknown='ignore', sparse = False))\n",
    "                        ])),\n",
    "                        ('normalize', Pipeline([\n",
    "                            ('select_columns', ColumnSelector(num)),\n",
    "                            ('count_features', StandardScaler())\n",
    "                        ]))\n",
    "            ])"
   ]
  },
  {
   "cell_type": "code",
   "execution_count": 103,
   "metadata": {},
   "outputs": [],
   "source": [
    "matrix = transform.fit_transform(df)"
   ]
  },
  {
   "cell_type": "code",
   "execution_count": 104,
   "metadata": {},
   "outputs": [],
   "source": [
    "x_train, x_test, y_train, y_test = train_test_split(matrix, df['Type'].values, test_size=0.3, random_state = 8)"
   ]
  },
  {
   "cell_type": "code",
   "execution_count": 105,
   "metadata": {},
   "outputs": [],
   "source": [
    "lr = LogisticRegressionCV(cv = 12, max_iter = 2000)\n",
    "rf = RandomForestClassifier(n_estimators = 30, max_depth = 5)\n",
    "nn = MLPClassifier(hidden_layer_sizes = (123, 31, 8,), verbose = False)"
   ]
  },
  {
   "cell_type": "code",
   "execution_count": 106,
   "metadata": {},
   "outputs": [],
   "source": [
    "lr.fit(x_train, y_train);\n",
    "rf.fit(x_train, y_train);\n",
    "nn.fit(x_train, y_train);"
   ]
  },
  {
   "cell_type": "code",
   "execution_count": 107,
   "metadata": {},
   "outputs": [
    {
     "name": "stdout",
     "output_type": "stream",
     "text": [
      "0.9607476635514018\n",
      "0.9327102803738317\n",
      "0.9757009345794393\n"
     ]
    }
   ],
   "source": [
    "print(lr.score(x_test,y_test))\n",
    "print(rf.score(x_test,y_test))\n",
    "print(nn.score(x_test,y_test))"
   ]
  },
  {
   "cell_type": "code",
   "execution_count": 114,
   "metadata": {},
   "outputs": [],
   "source": [
    "with open('y_test.txt', 'w') as f:\n",
    "    for v in y_test:\n",
    "        f.write(str(v)+'\\n')\n",
    "\n",
    "y_prob = lr.predict_proba(x_test)[:,1]\n",
    "with open('y_prob.txt', 'w') as f:\n",
    "    for v in y_prob:\n",
    "        f.write(str(v)+'\\n')\n",
    "        \n",
    "y_pred = lr.predict(x_test)\n",
    "with open('y_pred.txt', 'w') as f:\n",
    "    for v in y_prob:\n",
    "        f.write(str(v)+'\\n')"
   ]
  },
  {
   "cell_type": "code",
   "execution_count": null,
   "metadata": {},
   "outputs": [],
   "source": []
  }
 ],
 "metadata": {
  "kernelspec": {
   "display_name": "NLP+Spark",
   "language": "python",
   "name": "nlp"
  },
  "language_info": {
   "codemirror_mode": {
    "name": "ipython",
    "version": 3
   },
   "file_extension": ".py",
   "mimetype": "text/x-python",
   "name": "python",
   "nbconvert_exporter": "python",
   "pygments_lexer": "ipython3",
   "version": "3.7.5"
  }
 },
 "nbformat": 4,
 "nbformat_minor": 4
}
