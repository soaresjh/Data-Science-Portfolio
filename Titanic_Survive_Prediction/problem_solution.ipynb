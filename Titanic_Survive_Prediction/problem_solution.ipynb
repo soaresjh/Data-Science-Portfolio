{
 "cells": [
  {
   "cell_type": "code",
   "execution_count": 1,
   "metadata": {},
   "outputs": [
    {
     "name": "stdout",
     "output_type": "stream",
     "text": [
      "-------> INITIALIZING <-------\n",
      "LOADING  - ......................................................\n",
      "FILE NAME\n",
      "----> data/unknow.csv <----\n",
      " - raw dataframe\n",
      "Missing Features:\n",
      "- ['Cabin', 327]\n",
      "- ['Age', 86]\n",
      "- ['Fare', 1]\n",
      "\n",
      "Object Features:\n",
      "- ['Name', 418]\n",
      "- ['Ticket', 363]\n",
      "- ['Cabin', 77]\n",
      "- ['Embarked', 3]\n",
      "- ['Sex', 2]\n",
      "PROCESSING  - ...................................................\n",
      "  - Age - .......................................................\n",
      "  - Fare - ......................................................\n",
      "  - Embarker - ..................................................\n",
      "  - Cabin - .....................................................\n",
      "  - Title - .....................................................\n",
      "  - Sex - .......................................................\n",
      "  - Ticket - ....................................................\n",
      "*TICKET COLUMN IS BEING DROPED\n",
      " - Final dataset - ..............................................\n",
      "  -> Numerical Features\n",
      "           Pclass       SibSp       Parch         Age        Fare\n",
      "count  418.000000  418.000000  418.000000  418.000000  418.000000\n",
      "mean     2.265550    0.447368    0.392344    3.748804    1.382775\n",
      "std      0.841838    0.896760    0.981429    1.338083    1.055710\n",
      "min      1.000000    0.000000    0.000000    1.000000    1.000000\n",
      "25%      1.000000    0.000000    0.000000    3.000000    1.000000\n",
      "50%      3.000000    0.000000    0.000000    4.000000    1.000000\n",
      "75%      3.000000    1.000000    0.000000    4.000000    1.000000\n",
      "max      3.000000    8.000000    9.000000    8.000000   10.000000\n",
      "  -> Categorical Features\n",
      "         Sex Name   Cabin     Embarked\n",
      "count    418  418     418          418\n",
      "unique     2    5       8            3\n",
      "top     male   MR  unknow  SOUTHAMPTON\n",
      "freq     266  312     327          270\n",
      "SAVING  - .......................................................\n",
      "*predicting dataset\n",
      "DONE !!!\n",
      "FILE NAME\n",
      "----> md0718_H1649_pre_feat_unknow.csv <----\n"
     ]
    }
   ],
   "source": [
    "%run pre_process.py data unknow.csv"
   ]
  },
  {
   "cell_type": "code",
   "execution_count": 2,
   "metadata": {},
   "outputs": [
    {
     "name": "stdout",
     "output_type": "stream",
     "text": [
      "LOADING  - ......................................................\n",
      "FILE NAME\n",
      "----> data/md0718_H1649_pre_feat_unknow.csv <----\n",
      "MODELING  - .....................................................\n",
      "PREDICTING  - ...................................................\n",
      "SAVING  - .......................................................\n",
      "DONE!!!\n",
      "FILE NAME\n",
      "----> md0718_H1649_features_unknow.csv <----\n"
     ]
    }
   ],
   "source": [
    "%run cabin_classify.py data unknow.csv md0718_H1649"
   ]
  },
  {
   "cell_type": "code",
   "execution_count": 3,
   "metadata": {},
   "outputs": [
    {
     "name": "stdout",
     "output_type": "stream",
     "text": [
      "LOADING  - ......................................................\n",
      "FILES NAME\n",
      "----> data/md0718_H1649_features_unknow.csv <----\n",
      "MODELING ........................................................\n",
      "DONE!!!\n",
      "PREDICTION NAME\n",
      "----> data/md0718_H1649_predicted_registration.csv<----\n"
     ]
    }
   ],
   "source": [
    "%run answer.py data unknow.csv md0718_H1649 registration md0718_H1618"
   ]
  }
 ],
 "metadata": {
  "kernelspec": {
   "display_name": "Python 3",
   "language": "python",
   "name": "python3"
  },
  "language_info": {
   "codemirror_mode": {
    "name": "ipython",
    "version": 3
   },
   "file_extension": ".py",
   "mimetype": "text/x-python",
   "name": "python",
   "nbconvert_exporter": "python",
   "pygments_lexer": "ipython3",
   "version": "3.7.2"
  }
 },
 "nbformat": 4,
 "nbformat_minor": 2
}
