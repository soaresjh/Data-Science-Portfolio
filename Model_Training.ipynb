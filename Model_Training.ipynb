{
 "cells": [
  {
   "cell_type": "code",
   "execution_count": 1,
   "metadata": {},
   "outputs": [],
   "source": [
    "%load_ext autoreload\n",
    "%autoreload 2"
   ]
  },
  {
   "cell_type": "code",
   "execution_count": 2,
   "metadata": {},
   "outputs": [],
   "source": [
    "from pyspark.sql import SparkSession\n",
    "from pyspark import SparkConf, SparkContext\n",
    "from pyspark.sql import functions as F, types as T\n",
    "\n",
    "conf = SparkConf().set('spark.driver.host','127.0.0.1')\n",
    "spark = SparkSession.builder.config(conf = conf).getOrCreate()"
   ]
  },
  {
   "cell_type": "code",
   "execution_count": 3,
   "metadata": {},
   "outputs": [],
   "source": [
    "from pywasp.modeling import builder\n",
    "from pywasp.functions import server_finder,\\\n",
    "                             is_in_list,\\\n",
    "                             get_ith"
   ]
  },
  {
   "cell_type": "code",
   "execution_count": 4,
   "metadata": {},
   "outputs": [],
   "source": [
    "df = spark.read.csv('dataset.csv',\n",
    "                    header = True).fillna('None')"
   ]
  },
  {
   "cell_type": "code",
   "execution_count": 5,
   "metadata": {},
   "outputs": [],
   "source": [
    "df = df.drop('CONTENT_LENGTH', 'URL', 'WHOIS_UPDATED_DATE', 'WHOIS_REGDATE')\n",
    "df = df.withColumn('label',F.col('Type').cast(T.IntegerType()))"
   ]
  },
  {
   "cell_type": "code",
   "execution_count": 6,
   "metadata": {},
   "outputs": [],
   "source": [
    "WHOIS_COUNTRY_keep  = ['none','es', 'us', 'cz', 'ru', 'gb', 'cn']\n",
    "WHOIS_STATEPRO_keep = ['none','barcelona','utah','california',\n",
    "                       'praha', 'wc1n','krasnoyarsk','ca','pa',\n",
    "                       'washington','wa','panama','arizona',\n",
    "                       'on','montevideo','beijingshi']\n",
    "\n",
    "dict_listeds = {'WHOIS_COUNTRY' : WHOIS_COUNTRY_keep,\n",
    "                'WHOIS_STATEPRO': WHOIS_STATEPRO_keep}"
   ]
  },
  {
   "cell_type": "code",
   "execution_count": 7,
   "metadata": {},
   "outputs": [],
   "source": [
    "df = df.withColumn('SERVER',server_finder(F.col('SERVER')))\n",
    "for c in ['WHOIS_COUNTRY', 'WHOIS_STATEPRO']:\n",
    "    df = df.withColumn(c, is_in_list(F.col(c),dict_listeds[c]))"
   ]
  },
  {
   "cell_type": "code",
   "execution_count": 8,
   "metadata": {},
   "outputs": [],
   "source": [
    "categorical = ['CHARSET', 'SERVER', 'WHOIS_COUNTRY', 'WHOIS_STATEPRO']\n",
    "numerical   = [c for c in df.columns if c not in categorical + ['label'] + ['id']]"
   ]
  },
  {
   "cell_type": "code",
   "execution_count": 9,
   "metadata": {},
   "outputs": [],
   "source": [
    "for c in numerical:\n",
    "    df = df.withColumn(c,\n",
    "                       F.when(F.col(c) == 'None', 0)\\\n",
    "                        .otherwise(F.col(c)\\\n",
    "                                    .cast(T.FloatType())))"
   ]
  },
  {
   "cell_type": "code",
   "execution_count": 10,
   "metadata": {},
   "outputs": [],
   "source": [
    "df = df.withColumn('id', F.monotonically_increasing_id())\n",
    "df_train = df.sample(False,0.2,8)\n",
    "df_test  = df.join(df_train, on = 'id', how = 'left_anti')"
   ]
  },
  {
   "cell_type": "code",
   "execution_count": 11,
   "metadata": {},
   "outputs": [],
   "source": [
    "model = builder(numerical,\n",
    "                categorical)"
   ]
  },
  {
   "cell_type": "code",
   "execution_count": 12,
   "metadata": {},
   "outputs": [],
   "source": [
    "predictor = model.fit(df_train)"
   ]
  },
  {
   "cell_type": "code",
   "execution_count": 13,
   "metadata": {},
   "outputs": [],
   "source": [
    "predicition = predictor.transform(df_test).select('probability','prediction')\n",
    "predicition = predicition.withColumn('probability', F.round(get_ith(F.col('probability'),\n",
    "                                                            F.lit(1))))"
   ]
  },
  {
   "cell_type": "code",
   "execution_count": 14,
   "metadata": {},
   "outputs": [],
   "source": [
    "y_test = [r['label'] for r in df_test.select('label').collect()]\n",
    "with open('y_test.txt', 'w') as f:\n",
    "    for v in y_test:\n",
    "        f.write(str(v)+'\\n')\n",
    "\n",
    "y_prob = [r['probability'] for r in predicition.select('probability').collect()]\n",
    "with open('y_prob.txt', 'w') as f:\n",
    "    for v in y_prob:\n",
    "        f.write(str(v)+'\\n')\n",
    "        \n",
    "y_pred = [r['prediction'] for r in predicition.select('prediction').collect()]\n",
    "with open('y_pred.txt', 'w') as f:\n",
    "    for v in y_prob:\n",
    "        f.write(str(v)+'\\n')"
   ]
  },
  {
   "cell_type": "code",
   "execution_count": 15,
   "metadata": {},
   "outputs": [
    {
     "name": "stdout",
     "output_type": "stream",
     "text": [
      "454 ms ± 76 ms per loop (mean ± std. dev. of 7 runs, 1 loop each)\n"
     ]
    }
   ],
   "source": [
    "%%timeit\n",
    "predicition = predictor.transform(df_test.limit(1)).select('probability','prediction')"
   ]
  },
  {
   "cell_type": "code",
   "execution_count": null,
   "metadata": {},
   "outputs": [],
   "source": []
  }
 ],
 "metadata": {
  "kernelspec": {
   "display_name": "NLP+Spark",
   "language": "python",
   "name": "nlp"
  },
  "language_info": {
   "codemirror_mode": {
    "name": "ipython",
    "version": 3
   },
   "file_extension": ".py",
   "mimetype": "text/x-python",
   "name": "python",
   "nbconvert_exporter": "python",
   "pygments_lexer": "ipython3",
   "version": "3.7.5"
  }
 },
 "nbformat": 4,
 "nbformat_minor": 4
}
