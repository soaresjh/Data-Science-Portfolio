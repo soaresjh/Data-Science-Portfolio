{
 "cells": [
  {
   "cell_type": "markdown",
   "metadata": {},
   "source": [
    "### Problem Descrition\n",
    "\n",
    "The sinking of the RMS Titanic is one of the most infamous shipwrecks in history.  On April 15, 1912, during her maiden voyage, the Titanic sank after colliding with an iceberg, killing 1502 out of 2224 passengers and crew. This sensational tragedy shocked the international community and led to better safety regulations for ships.\n",
    "\n",
    "One of the reasons that the shipwreck led to such loss of life was that there were not enough lifeboats for the passengers and crew. Although there was some element of luck involved in surviving the sinking, some groups of people were more likely to survive than others, such as women, children, and the upper-class.\n",
    "\n",
    "In this challenge, we ask you to complete the analysis of what sorts of people were likely to survive. In particular, we ask you to apply the tools of machine learning to predict which passengers survived the tragedy."
   ]
  },
  {
   "cell_type": "markdown",
   "metadata": {},
   "source": [
    "### Libraries"
   ]
  },
  {
   "cell_type": "code",
   "execution_count": 1,
   "metadata": {},
   "outputs": [],
   "source": [
    "import pandas as pd\n",
    "import numpy as np\n",
    "\n",
    "from pandas import get_dummies as dummies"
   ]
  },
  {
   "cell_type": "markdown",
   "metadata": {},
   "source": [
    "### Functions"
   ]
  },
  {
   "cell_type": "code",
   "execution_count": 2,
   "metadata": {},
   "outputs": [],
   "source": [
    "def read_csv_col(col_list):\n",
    "    df = pd.read_csv('train.csv',\n",
    "                     usecols = col_list\n",
    "                    )\n",
    "    return df"
   ]
  },
  {
   "cell_type": "code",
   "execution_count": 3,
   "metadata": {},
   "outputs": [],
   "source": [
    "def to_list_objectis(DataFrame):\n",
    "    obj_features = DataFrame.dtypes[DataFrame.dtypes==object].axes[0]\n",
    "    obj_describe = []\n",
    "\n",
    "    for feat in obj_features:\n",
    "        l = len(DataFrame[feat].unique())\n",
    "        obj_describe.append([feat,l])\n",
    "\n",
    "    obj_describe.sort(key = lambda x: x[1], reverse = True)    \n",
    "    print('Object Features:', *obj_describe, sep='\\n- ')\n",
    "    \n",
    "    return list(obj_features)"
   ]
  },
  {
   "cell_type": "code",
   "execution_count": 4,
   "metadata": {},
   "outputs": [],
   "source": [
    "def to_list_missing(DataFrame):\n",
    "    missing_features = DataFrame.columns[DataFrame.isna().sum()>0]\n",
    "    mis_describe = []\n",
    "\n",
    "    for feat in missing_features:\n",
    "        l = DataFrame[feat].isna().sum()\n",
    "        mis_describe.append([feat,l])\n",
    "\n",
    "    mis_describe.sort(key = lambda x: x[1], reverse = True)    \n",
    "    print('Missing Features:', *mis_describe, sep='\\n- ')\n",
    "    \n",
    "    return list(missing_features)"
   ]
  },
  {
   "cell_type": "code",
   "execution_count": 5,
   "metadata": {},
   "outputs": [
    {
     "name": "stdout",
     "output_type": "stream",
     "text": [
      "Missing Features:\n",
      "- ['Cabin', 687]\n",
      "- ['Age', 177]\n",
      "- ['Embarked', 2]\n",
      "\n",
      "Object Features:\n",
      "- ['Name', 891]\n",
      "- ['Ticket', 681]\n",
      "- ['Cabin', 148]\n",
      "- ['Embarked', 4]\n",
      "- ['Sex', 2]\n"
     ]
    }
   ],
   "source": [
    "data = pd.read_csv('train.csv')\n",
    "\n",
    "missin_features   = to_list_missing(data)\n",
    "print('')\n",
    "objectis_features = to_list_objectis(data)\n",
    "del data"
   ]
  },
  {
   "cell_type": "markdown",
   "metadata": {},
   "source": [
    "#### Age"
   ]
  },
  {
   "cell_type": "code",
   "execution_count": 6,
   "metadata": {},
   "outputs": [],
   "source": [
    "x_age = read_csv_col(['Age']);\n",
    "\n",
    "age_mean = np.mean(x_age['Age'])\n",
    "x_age.fillna(age_mean, inplace = True)"
   ]
  },
  {
   "cell_type": "code",
   "execution_count": 7,
   "metadata": {},
   "outputs": [],
   "source": [
    "n_bins = 8\n",
    "_, age_bins = pd.cut(x_age['Age'], bins = n_bins, retbins=True)"
   ]
  },
  {
   "cell_type": "code",
   "execution_count": 8,
   "metadata": {},
   "outputs": [],
   "source": [
    "def helper_Age(value):\n",
    "    is_in_bin = 0;\n",
    "    for bound in age_bins:\n",
    "        if value <= bound:\n",
    "            return is_in_bin\n",
    "        is_in_bin += 1"
   ]
  },
  {
   "cell_type": "code",
   "execution_count": 9,
   "metadata": {},
   "outputs": [],
   "source": [
    "x_age['Age'] = x_age['Age'].apply(helper_Age)/n_bins"
   ]
  },
  {
   "cell_type": "markdown",
   "metadata": {},
   "source": [
    "#### Embarked  "
   ]
  },
  {
   "cell_type": "code",
   "execution_count": 10,
   "metadata": {},
   "outputs": [],
   "source": [
    "x_embarked = read_csv_col(['Embarked']);\n",
    "\n",
    "embarked_top = list(x_embarked['Embarked'].value_counts().axes[0])[0]\n",
    "x_embarked.fillna(embarked_top, inplace = True)\n",
    "x_embarked.replace({'C':'Cherbourg', 'S':'Southampton', 'Q':'Queenstown'}, \n",
    "                   inplace = True)"
   ]
  },
  {
   "cell_type": "code",
   "execution_count": 11,
   "metadata": {},
   "outputs": [],
   "source": [
    "x_embarked = dummies(x_embarked['Embarked'], prefix = 'Embark')"
   ]
  },
  {
   "cell_type": "markdown",
   "metadata": {},
   "source": [
    "#### Cabin"
   ]
  },
  {
   "cell_type": "code",
   "execution_count": 12,
   "metadata": {},
   "outputs": [],
   "source": [
    "x_cabin = read_csv_col(['Cabin'])\n",
    "\n",
    "flours = ('A','B','C','D','E','F','G');"
   ]
  },
  {
   "cell_type": "code",
   "execution_count": 13,
   "metadata": {},
   "outputs": [],
   "source": [
    "def helper_cabin(element):\n",
    "    for level in flours:\n",
    "        if level in element:\n",
    "            return level\n",
    "    return element"
   ]
  },
  {
   "cell_type": "code",
   "execution_count": 14,
   "metadata": {},
   "outputs": [],
   "source": [
    "x_cabin['Cabin'].replace({'T':'NaN'}, inplace = True)\n",
    "x_cabin['Cabin'].fillna('NaN', inplace = True)\n",
    "x_cabin['Cabin'] = x_cabin['Cabin'].apply(helper_cabin)"
   ]
  },
  {
   "cell_type": "code",
   "execution_count": 15,
   "metadata": {},
   "outputs": [],
   "source": [
    "x_cabin = dummies(x_cabin['Cabin'], prefix = 'Cabin')\n",
    "x_cabin.drop('Cabin_NaN', axis = 1, inplace = True)"
   ]
  },
  {
   "cell_type": "code",
   "execution_count": 16,
   "metadata": {},
   "outputs": [],
   "source": [
    "def helper_cabin_allocat(pdSerie):\n",
    "\n",
    "    if pdSerie['Pclass'] == 1:\n",
    "        floors = ['A','B','C','D','E']\n",
    "        if pdSerie['Related'] > 2:\n",
    "            floors = ['B', 'C']\n",
    "        elif pdSerie['Related'] > 4:\n",
    "            floors = ['C']\n",
    "            \n",
    "    elif pdSerie['Pclass'] == 2:\n",
    "        floors = ['D','E','F']\n",
    "        if pdSerie['Related'] > 1:\n",
    "            floors = ['F']\n",
    "    else:\n",
    "        floors = ['E','F','G']\n",
    "        if pdSerie['Related'] > 1:\n",
    "            floors = ['G']\n",
    "    \n",
    "    col_floors = []\n",
    "    for f in floors:\n",
    "        col_floors += ['Cabin_' + f]\n",
    "    \n",
    "    returnSerie = pdSerie.copy(deep = True)\n",
    "    \n",
    "    for c in col_floors:\n",
    "        returnSerie[c] = 1\n",
    "    \n",
    "    return returnSerie"
   ]
  },
  {
   "cell_type": "code",
   "execution_count": 17,
   "metadata": {},
   "outputs": [],
   "source": [
    "data = read_csv_col(['SibSp','Parch','Pclass']) \n",
    "\n",
    "x_cabin['Related'] = data['SibSp']+data['Parch'];\n",
    "x_cabin['Pclass']  = data['Pclass']"
   ]
  },
  {
   "cell_type": "code",
   "execution_count": 18,
   "metadata": {},
   "outputs": [],
   "source": [
    "x_cabin = x_cabin.apply(helper_cabin_allocat, axis = 1)\n",
    "x_cabin.drop(['Related','Pclass'],axis = 1, inplace = True)"
   ]
  },
  {
   "cell_type": "markdown",
   "metadata": {},
   "source": [
    "### Is all Not NaN?"
   ]
  },
  {
   "cell_type": "code",
   "execution_count": 19,
   "metadata": {},
   "outputs": [
    {
     "name": "stdout",
     "output_type": "stream",
     "text": [
      "Age NaN sum Age    0\n",
      "dtype: int64\n",
      "\n",
      "Embarked NaN sum\n",
      "Embark_Cherbourg      0\n",
      "Embark_Queenstown     0\n",
      "Embark_Southampton    0\n",
      "dtype: int64\n",
      "\n",
      "Cabin Allocation NaN sum:\n",
      "Cabin_A    0\n",
      "Cabin_B    0\n",
      "Cabin_C    0\n",
      "Cabin_D    0\n",
      "Cabin_E    0\n",
      "Cabin_F    0\n",
      "Cabin_G    0\n",
      "dtype: int64\n"
     ]
    }
   ],
   "source": [
    "print('Age NaN sum {}'.format(x_age.isna().sum()))\n",
    "\n",
    "print('\\nEmbarked NaN sum')\n",
    "print(x_embarked.isna().sum())\n",
    "\n",
    "print('\\nCabin Allocation NaN sum:')\n",
    "print(x_cabin.isna().sum())"
   ]
  },
  {
   "cell_type": "markdown",
   "metadata": {},
   "source": [
    "#### Name"
   ]
  },
  {
   "cell_type": "code",
   "execution_count": 20,
   "metadata": {},
   "outputs": [],
   "source": [
    "x_name = read_csv_col(['Name'])\n",
    "\n",
    "name_title = ('Mr', 'Mrs','Ms','Mme','Miss', 'Mlle',\n",
    "              'Master','Dr','Don','Countess',\n",
    "              'Major','Cap','Col',\n",
    "              'Rev')"
   ]
  },
  {
   "cell_type": "code",
   "execution_count": 21,
   "metadata": {},
   "outputs": [],
   "source": [
    "def helper_name(elemente):\n",
    "    for title in name_title:\n",
    "        if title in elemente:\n",
    "            return title\n",
    "    return elemente"
   ]
  },
  {
   "cell_type": "code",
   "execution_count": 22,
   "metadata": {},
   "outputs": [],
   "source": [
    "x_name['Name'] = x_name['Name'].apply(helper_name)\n",
    "x_name['Name'].replace({'Mme':'Ms',\n",
    "                        'Mlle':'Miss',\n",
    "                        'Major':'Arm',\n",
    "                        'Cap':'Arm',\n",
    "                        'Col':'Arm',\n",
    "                        'Countess':'Nobil',\n",
    "                        'Don':'Nobil',\n",
    "                        'Reuchlin, Jonkheer. John George':'Mr'\n",
    "                       }, inplace = True)"
   ]
  },
  {
   "cell_type": "code",
   "execution_count": 23,
   "metadata": {},
   "outputs": [],
   "source": [
    "x_name = dummies(x_name, prefix = 'Title')"
   ]
  },
  {
   "cell_type": "markdown",
   "metadata": {},
   "source": [
    "#### Sex"
   ]
  },
  {
   "cell_type": "code",
   "execution_count": 24,
   "metadata": {},
   "outputs": [],
   "source": [
    "x_sex = read_csv_col(['Sex'])"
   ]
  },
  {
   "cell_type": "code",
   "execution_count": 25,
   "metadata": {},
   "outputs": [],
   "source": [
    "def helper_sex(element):\n",
    "    if element == 'male':\n",
    "        return 1\n",
    "    elif element == 'female':\n",
    "        return -1\n",
    "    return 0"
   ]
  },
  {
   "cell_type": "code",
   "execution_count": 26,
   "metadata": {},
   "outputs": [],
   "source": [
    "x_sex['Sex'] = x_sex['Sex'].apply(helper_sex)"
   ]
  },
  {
   "cell_type": "markdown",
   "metadata": {},
   "source": [
    "#### Ticker"
   ]
  },
  {
   "cell_type": "markdown",
   "metadata": {},
   "source": [
    "Don't have unique information. "
   ]
  },
  {
   "cell_type": "markdown",
   "metadata": {},
   "source": [
    "### Data"
   ]
  },
  {
   "cell_type": "code",
   "execution_count": 27,
   "metadata": {},
   "outputs": [],
   "source": [
    "drop_col = missin_features + list(set(objectis_features) - set(missin_features))\n",
    "x = pd.read_csv('train.csv',\n",
    "                usecols = lambda x: x not in drop_col+['PassengerId', 'Survived']\n",
    "               )\n",
    "y = read_csv_col(['Survived'])"
   ]
  },
  {
   "cell_type": "code",
   "execution_count": 28,
   "metadata": {},
   "outputs": [
    {
     "data": {
      "text/html": [
       "<div>\n",
       "<style scoped>\n",
       "    .dataframe tbody tr th:only-of-type {\n",
       "        vertical-align: middle;\n",
       "    }\n",
       "\n",
       "    .dataframe tbody tr th {\n",
       "        vertical-align: top;\n",
       "    }\n",
       "\n",
       "    .dataframe thead th {\n",
       "        text-align: right;\n",
       "    }\n",
       "</style>\n",
       "<table border=\"1\" class=\"dataframe\">\n",
       "  <thead>\n",
       "    <tr style=\"text-align: right;\">\n",
       "      <th></th>\n",
       "      <th>Pclass</th>\n",
       "      <th>SibSp</th>\n",
       "      <th>Parch</th>\n",
       "      <th>Fare</th>\n",
       "    </tr>\n",
       "  </thead>\n",
       "  <tbody>\n",
       "    <tr>\n",
       "      <th>count</th>\n",
       "      <td>891.000000</td>\n",
       "      <td>891.000000</td>\n",
       "      <td>891.000000</td>\n",
       "      <td>891.000000</td>\n",
       "    </tr>\n",
       "    <tr>\n",
       "      <th>mean</th>\n",
       "      <td>2.308642</td>\n",
       "      <td>0.523008</td>\n",
       "      <td>0.381594</td>\n",
       "      <td>32.204208</td>\n",
       "    </tr>\n",
       "    <tr>\n",
       "      <th>std</th>\n",
       "      <td>0.836071</td>\n",
       "      <td>1.102743</td>\n",
       "      <td>0.806057</td>\n",
       "      <td>49.693429</td>\n",
       "    </tr>\n",
       "    <tr>\n",
       "      <th>min</th>\n",
       "      <td>1.000000</td>\n",
       "      <td>0.000000</td>\n",
       "      <td>0.000000</td>\n",
       "      <td>0.000000</td>\n",
       "    </tr>\n",
       "    <tr>\n",
       "      <th>25%</th>\n",
       "      <td>2.000000</td>\n",
       "      <td>0.000000</td>\n",
       "      <td>0.000000</td>\n",
       "      <td>7.910400</td>\n",
       "    </tr>\n",
       "    <tr>\n",
       "      <th>50%</th>\n",
       "      <td>3.000000</td>\n",
       "      <td>0.000000</td>\n",
       "      <td>0.000000</td>\n",
       "      <td>14.454200</td>\n",
       "    </tr>\n",
       "    <tr>\n",
       "      <th>75%</th>\n",
       "      <td>3.000000</td>\n",
       "      <td>1.000000</td>\n",
       "      <td>0.000000</td>\n",
       "      <td>31.000000</td>\n",
       "    </tr>\n",
       "    <tr>\n",
       "      <th>max</th>\n",
       "      <td>3.000000</td>\n",
       "      <td>8.000000</td>\n",
       "      <td>6.000000</td>\n",
       "      <td>512.329200</td>\n",
       "    </tr>\n",
       "  </tbody>\n",
       "</table>\n",
       "</div>"
      ],
      "text/plain": [
       "           Pclass       SibSp       Parch        Fare\n",
       "count  891.000000  891.000000  891.000000  891.000000\n",
       "mean     2.308642    0.523008    0.381594   32.204208\n",
       "std      0.836071    1.102743    0.806057   49.693429\n",
       "min      1.000000    0.000000    0.000000    0.000000\n",
       "25%      2.000000    0.000000    0.000000    7.910400\n",
       "50%      3.000000    0.000000    0.000000   14.454200\n",
       "75%      3.000000    1.000000    0.000000   31.000000\n",
       "max      3.000000    8.000000    6.000000  512.329200"
      ]
     },
     "execution_count": 28,
     "metadata": {},
     "output_type": "execute_result"
    }
   ],
   "source": [
    "x.describe()"
   ]
  },
  {
   "cell_type": "code",
   "execution_count": 29,
   "metadata": {},
   "outputs": [],
   "source": [
    "def helper_normalize(pdColumn):\n",
    "    maximun = pdColumn.max()\n",
    "    return pdColumn/maximun"
   ]
  },
  {
   "cell_type": "code",
   "execution_count": 30,
   "metadata": {},
   "outputs": [
    {
     "data": {
      "text/html": [
       "<div>\n",
       "<style scoped>\n",
       "    .dataframe tbody tr th:only-of-type {\n",
       "        vertical-align: middle;\n",
       "    }\n",
       "\n",
       "    .dataframe tbody tr th {\n",
       "        vertical-align: top;\n",
       "    }\n",
       "\n",
       "    .dataframe thead th {\n",
       "        text-align: right;\n",
       "    }\n",
       "</style>\n",
       "<table border=\"1\" class=\"dataframe\">\n",
       "  <thead>\n",
       "    <tr style=\"text-align: right;\">\n",
       "      <th></th>\n",
       "      <th>Pclass</th>\n",
       "      <th>SibSp</th>\n",
       "      <th>Parch</th>\n",
       "      <th>Fare</th>\n",
       "    </tr>\n",
       "  </thead>\n",
       "  <tbody>\n",
       "    <tr>\n",
       "      <th>count</th>\n",
       "      <td>891.000000</td>\n",
       "      <td>891.000000</td>\n",
       "      <td>891.000000</td>\n",
       "      <td>891.000000</td>\n",
       "    </tr>\n",
       "    <tr>\n",
       "      <th>mean</th>\n",
       "      <td>0.769547</td>\n",
       "      <td>0.065376</td>\n",
       "      <td>0.063599</td>\n",
       "      <td>0.062858</td>\n",
       "    </tr>\n",
       "    <tr>\n",
       "      <th>std</th>\n",
       "      <td>0.278690</td>\n",
       "      <td>0.137843</td>\n",
       "      <td>0.134343</td>\n",
       "      <td>0.096995</td>\n",
       "    </tr>\n",
       "    <tr>\n",
       "      <th>min</th>\n",
       "      <td>0.333333</td>\n",
       "      <td>0.000000</td>\n",
       "      <td>0.000000</td>\n",
       "      <td>0.000000</td>\n",
       "    </tr>\n",
       "    <tr>\n",
       "      <th>25%</th>\n",
       "      <td>0.666667</td>\n",
       "      <td>0.000000</td>\n",
       "      <td>0.000000</td>\n",
       "      <td>0.015440</td>\n",
       "    </tr>\n",
       "    <tr>\n",
       "      <th>50%</th>\n",
       "      <td>1.000000</td>\n",
       "      <td>0.000000</td>\n",
       "      <td>0.000000</td>\n",
       "      <td>0.028213</td>\n",
       "    </tr>\n",
       "    <tr>\n",
       "      <th>75%</th>\n",
       "      <td>1.000000</td>\n",
       "      <td>0.125000</td>\n",
       "      <td>0.000000</td>\n",
       "      <td>0.060508</td>\n",
       "    </tr>\n",
       "    <tr>\n",
       "      <th>max</th>\n",
       "      <td>1.000000</td>\n",
       "      <td>1.000000</td>\n",
       "      <td>1.000000</td>\n",
       "      <td>1.000000</td>\n",
       "    </tr>\n",
       "  </tbody>\n",
       "</table>\n",
       "</div>"
      ],
      "text/plain": [
       "           Pclass       SibSp       Parch        Fare\n",
       "count  891.000000  891.000000  891.000000  891.000000\n",
       "mean     0.769547    0.065376    0.063599    0.062858\n",
       "std      0.278690    0.137843    0.134343    0.096995\n",
       "min      0.333333    0.000000    0.000000    0.000000\n",
       "25%      0.666667    0.000000    0.000000    0.015440\n",
       "50%      1.000000    0.000000    0.000000    0.028213\n",
       "75%      1.000000    0.125000    0.000000    0.060508\n",
       "max      1.000000    1.000000    1.000000    1.000000"
      ]
     },
     "execution_count": 30,
     "metadata": {},
     "output_type": "execute_result"
    }
   ],
   "source": [
    "x = x.apply(helper_normalize)\n",
    "\n",
    "x.describe()"
   ]
  },
  {
   "cell_type": "code",
   "execution_count": 31,
   "metadata": {},
   "outputs": [],
   "source": [
    "x = pd.concat([x,\n",
    "               x_age,\n",
    "               x_cabin,\n",
    "               x_embarked,\n",
    "               x_name,\n",
    "               x_sex\n",
    "              ], axis = 1)"
   ]
  },
  {
   "cell_type": "code",
   "execution_count": 32,
   "metadata": {},
   "outputs": [
    {
     "data": {
      "text/html": [
       "<div>\n",
       "<style scoped>\n",
       "    .dataframe tbody tr th:only-of-type {\n",
       "        vertical-align: middle;\n",
       "    }\n",
       "\n",
       "    .dataframe tbody tr th {\n",
       "        vertical-align: top;\n",
       "    }\n",
       "\n",
       "    .dataframe thead th {\n",
       "        text-align: right;\n",
       "    }\n",
       "</style>\n",
       "<table border=\"1\" class=\"dataframe\">\n",
       "  <thead>\n",
       "    <tr style=\"text-align: right;\">\n",
       "      <th></th>\n",
       "      <th>Pclass</th>\n",
       "      <th>SibSp</th>\n",
       "      <th>Parch</th>\n",
       "      <th>Fare</th>\n",
       "      <th>Age</th>\n",
       "      <th>Cabin_A</th>\n",
       "      <th>Cabin_B</th>\n",
       "      <th>Cabin_C</th>\n",
       "      <th>Cabin_D</th>\n",
       "      <th>Cabin_E</th>\n",
       "      <th>Cabin_F</th>\n",
       "      <th>Cabin_G</th>\n",
       "      <th>Embark_Cherbourg</th>\n",
       "      <th>Embark_Queenstown</th>\n",
       "      <th>Embark_Southampton</th>\n",
       "      <th>Title_Arm</th>\n",
       "      <th>Title_Dr</th>\n",
       "      <th>Title_Master</th>\n",
       "      <th>Title_Miss</th>\n",
       "      <th>Title_Mr</th>\n",
       "      <th>Title_Ms</th>\n",
       "      <th>Title_Nobil</th>\n",
       "      <th>Title_Rev</th>\n",
       "      <th>Sex</th>\n",
       "    </tr>\n",
       "  </thead>\n",
       "  <tbody>\n",
       "    <tr>\n",
       "      <th>count</th>\n",
       "      <td>891.000000</td>\n",
       "      <td>891.000000</td>\n",
       "      <td>891.000000</td>\n",
       "      <td>891.000000</td>\n",
       "      <td>891.000000</td>\n",
       "      <td>891.000000</td>\n",
       "      <td>891.000000</td>\n",
       "      <td>891.000000</td>\n",
       "      <td>891.000000</td>\n",
       "      <td>891.000000</td>\n",
       "      <td>891.000000</td>\n",
       "      <td>891.000000</td>\n",
       "      <td>891.000000</td>\n",
       "      <td>891.000000</td>\n",
       "      <td>891.000000</td>\n",
       "      <td>891.000000</td>\n",
       "      <td>891.000000</td>\n",
       "      <td>891.000000</td>\n",
       "      <td>891.000000</td>\n",
       "      <td>891.000000</td>\n",
       "      <td>891.000000</td>\n",
       "      <td>891.000000</td>\n",
       "      <td>891.000000</td>\n",
       "      <td>891.000000</td>\n",
       "    </tr>\n",
       "    <tr>\n",
       "      <th>mean</th>\n",
       "      <td>0.769547</td>\n",
       "      <td>0.065376</td>\n",
       "      <td>0.063599</td>\n",
       "      <td>0.062858</td>\n",
       "      <td>0.417508</td>\n",
       "      <td>0.227834</td>\n",
       "      <td>0.242424</td>\n",
       "      <td>0.242424</td>\n",
       "      <td>0.382716</td>\n",
       "      <td>0.811448</td>\n",
       "      <td>0.634119</td>\n",
       "      <td>0.551066</td>\n",
       "      <td>0.188552</td>\n",
       "      <td>0.086420</td>\n",
       "      <td>0.725028</td>\n",
       "      <td>0.005612</td>\n",
       "      <td>0.007856</td>\n",
       "      <td>0.044893</td>\n",
       "      <td>0.203143</td>\n",
       "      <td>0.727273</td>\n",
       "      <td>0.002245</td>\n",
       "      <td>0.002245</td>\n",
       "      <td>0.006734</td>\n",
       "      <td>0.295174</td>\n",
       "    </tr>\n",
       "    <tr>\n",
       "      <th>std</th>\n",
       "      <td>0.278690</td>\n",
       "      <td>0.137843</td>\n",
       "      <td>0.134343</td>\n",
       "      <td>0.096995</td>\n",
       "      <td>0.164532</td>\n",
       "      <td>0.419670</td>\n",
       "      <td>0.428790</td>\n",
       "      <td>0.428790</td>\n",
       "      <td>0.486323</td>\n",
       "      <td>0.391372</td>\n",
       "      <td>0.481947</td>\n",
       "      <td>0.497665</td>\n",
       "      <td>0.391372</td>\n",
       "      <td>0.281141</td>\n",
       "      <td>0.446751</td>\n",
       "      <td>0.074743</td>\n",
       "      <td>0.088337</td>\n",
       "      <td>0.207186</td>\n",
       "      <td>0.402564</td>\n",
       "      <td>0.445612</td>\n",
       "      <td>0.047351</td>\n",
       "      <td>0.047351</td>\n",
       "      <td>0.081830</td>\n",
       "      <td>0.955980</td>\n",
       "    </tr>\n",
       "    <tr>\n",
       "      <th>min</th>\n",
       "      <td>0.333333</td>\n",
       "      <td>0.000000</td>\n",
       "      <td>0.000000</td>\n",
       "      <td>0.000000</td>\n",
       "      <td>0.125000</td>\n",
       "      <td>0.000000</td>\n",
       "      <td>0.000000</td>\n",
       "      <td>0.000000</td>\n",
       "      <td>0.000000</td>\n",
       "      <td>0.000000</td>\n",
       "      <td>0.000000</td>\n",
       "      <td>0.000000</td>\n",
       "      <td>0.000000</td>\n",
       "      <td>0.000000</td>\n",
       "      <td>0.000000</td>\n",
       "      <td>0.000000</td>\n",
       "      <td>0.000000</td>\n",
       "      <td>0.000000</td>\n",
       "      <td>0.000000</td>\n",
       "      <td>0.000000</td>\n",
       "      <td>0.000000</td>\n",
       "      <td>0.000000</td>\n",
       "      <td>0.000000</td>\n",
       "      <td>-1.000000</td>\n",
       "    </tr>\n",
       "    <tr>\n",
       "      <th>25%</th>\n",
       "      <td>0.666667</td>\n",
       "      <td>0.000000</td>\n",
       "      <td>0.000000</td>\n",
       "      <td>0.015440</td>\n",
       "      <td>0.375000</td>\n",
       "      <td>0.000000</td>\n",
       "      <td>0.000000</td>\n",
       "      <td>0.000000</td>\n",
       "      <td>0.000000</td>\n",
       "      <td>1.000000</td>\n",
       "      <td>0.000000</td>\n",
       "      <td>0.000000</td>\n",
       "      <td>0.000000</td>\n",
       "      <td>0.000000</td>\n",
       "      <td>0.000000</td>\n",
       "      <td>0.000000</td>\n",
       "      <td>0.000000</td>\n",
       "      <td>0.000000</td>\n",
       "      <td>0.000000</td>\n",
       "      <td>0.000000</td>\n",
       "      <td>0.000000</td>\n",
       "      <td>0.000000</td>\n",
       "      <td>0.000000</td>\n",
       "      <td>-1.000000</td>\n",
       "    </tr>\n",
       "    <tr>\n",
       "      <th>50%</th>\n",
       "      <td>1.000000</td>\n",
       "      <td>0.000000</td>\n",
       "      <td>0.000000</td>\n",
       "      <td>0.028213</td>\n",
       "      <td>0.375000</td>\n",
       "      <td>0.000000</td>\n",
       "      <td>0.000000</td>\n",
       "      <td>0.000000</td>\n",
       "      <td>0.000000</td>\n",
       "      <td>1.000000</td>\n",
       "      <td>1.000000</td>\n",
       "      <td>1.000000</td>\n",
       "      <td>0.000000</td>\n",
       "      <td>0.000000</td>\n",
       "      <td>1.000000</td>\n",
       "      <td>0.000000</td>\n",
       "      <td>0.000000</td>\n",
       "      <td>0.000000</td>\n",
       "      <td>0.000000</td>\n",
       "      <td>1.000000</td>\n",
       "      <td>0.000000</td>\n",
       "      <td>0.000000</td>\n",
       "      <td>0.000000</td>\n",
       "      <td>1.000000</td>\n",
       "    </tr>\n",
       "    <tr>\n",
       "      <th>75%</th>\n",
       "      <td>1.000000</td>\n",
       "      <td>0.125000</td>\n",
       "      <td>0.000000</td>\n",
       "      <td>0.060508</td>\n",
       "      <td>0.500000</td>\n",
       "      <td>0.000000</td>\n",
       "      <td>0.000000</td>\n",
       "      <td>0.000000</td>\n",
       "      <td>1.000000</td>\n",
       "      <td>1.000000</td>\n",
       "      <td>1.000000</td>\n",
       "      <td>1.000000</td>\n",
       "      <td>0.000000</td>\n",
       "      <td>0.000000</td>\n",
       "      <td>1.000000</td>\n",
       "      <td>0.000000</td>\n",
       "      <td>0.000000</td>\n",
       "      <td>0.000000</td>\n",
       "      <td>0.000000</td>\n",
       "      <td>1.000000</td>\n",
       "      <td>0.000000</td>\n",
       "      <td>0.000000</td>\n",
       "      <td>0.000000</td>\n",
       "      <td>1.000000</td>\n",
       "    </tr>\n",
       "    <tr>\n",
       "      <th>max</th>\n",
       "      <td>1.000000</td>\n",
       "      <td>1.000000</td>\n",
       "      <td>1.000000</td>\n",
       "      <td>1.000000</td>\n",
       "      <td>1.000000</td>\n",
       "      <td>1.000000</td>\n",
       "      <td>1.000000</td>\n",
       "      <td>1.000000</td>\n",
       "      <td>1.000000</td>\n",
       "      <td>1.000000</td>\n",
       "      <td>1.000000</td>\n",
       "      <td>1.000000</td>\n",
       "      <td>1.000000</td>\n",
       "      <td>1.000000</td>\n",
       "      <td>1.000000</td>\n",
       "      <td>1.000000</td>\n",
       "      <td>1.000000</td>\n",
       "      <td>1.000000</td>\n",
       "      <td>1.000000</td>\n",
       "      <td>1.000000</td>\n",
       "      <td>1.000000</td>\n",
       "      <td>1.000000</td>\n",
       "      <td>1.000000</td>\n",
       "      <td>1.000000</td>\n",
       "    </tr>\n",
       "  </tbody>\n",
       "</table>\n",
       "</div>"
      ],
      "text/plain": [
       "           Pclass       SibSp       Parch        Fare         Age     Cabin_A  \\\n",
       "count  891.000000  891.000000  891.000000  891.000000  891.000000  891.000000   \n",
       "mean     0.769547    0.065376    0.063599    0.062858    0.417508    0.227834   \n",
       "std      0.278690    0.137843    0.134343    0.096995    0.164532    0.419670   \n",
       "min      0.333333    0.000000    0.000000    0.000000    0.125000    0.000000   \n",
       "25%      0.666667    0.000000    0.000000    0.015440    0.375000    0.000000   \n",
       "50%      1.000000    0.000000    0.000000    0.028213    0.375000    0.000000   \n",
       "75%      1.000000    0.125000    0.000000    0.060508    0.500000    0.000000   \n",
       "max      1.000000    1.000000    1.000000    1.000000    1.000000    1.000000   \n",
       "\n",
       "          Cabin_B     Cabin_C     Cabin_D     Cabin_E     Cabin_F     Cabin_G  \\\n",
       "count  891.000000  891.000000  891.000000  891.000000  891.000000  891.000000   \n",
       "mean     0.242424    0.242424    0.382716    0.811448    0.634119    0.551066   \n",
       "std      0.428790    0.428790    0.486323    0.391372    0.481947    0.497665   \n",
       "min      0.000000    0.000000    0.000000    0.000000    0.000000    0.000000   \n",
       "25%      0.000000    0.000000    0.000000    1.000000    0.000000    0.000000   \n",
       "50%      0.000000    0.000000    0.000000    1.000000    1.000000    1.000000   \n",
       "75%      0.000000    0.000000    1.000000    1.000000    1.000000    1.000000   \n",
       "max      1.000000    1.000000    1.000000    1.000000    1.000000    1.000000   \n",
       "\n",
       "       Embark_Cherbourg  Embark_Queenstown  Embark_Southampton   Title_Arm  \\\n",
       "count        891.000000         891.000000          891.000000  891.000000   \n",
       "mean           0.188552           0.086420            0.725028    0.005612   \n",
       "std            0.391372           0.281141            0.446751    0.074743   \n",
       "min            0.000000           0.000000            0.000000    0.000000   \n",
       "25%            0.000000           0.000000            0.000000    0.000000   \n",
       "50%            0.000000           0.000000            1.000000    0.000000   \n",
       "75%            0.000000           0.000000            1.000000    0.000000   \n",
       "max            1.000000           1.000000            1.000000    1.000000   \n",
       "\n",
       "         Title_Dr  Title_Master  Title_Miss    Title_Mr    Title_Ms  \\\n",
       "count  891.000000    891.000000  891.000000  891.000000  891.000000   \n",
       "mean     0.007856      0.044893    0.203143    0.727273    0.002245   \n",
       "std      0.088337      0.207186    0.402564    0.445612    0.047351   \n",
       "min      0.000000      0.000000    0.000000    0.000000    0.000000   \n",
       "25%      0.000000      0.000000    0.000000    0.000000    0.000000   \n",
       "50%      0.000000      0.000000    0.000000    1.000000    0.000000   \n",
       "75%      0.000000      0.000000    0.000000    1.000000    0.000000   \n",
       "max      1.000000      1.000000    1.000000    1.000000    1.000000   \n",
       "\n",
       "       Title_Nobil   Title_Rev         Sex  \n",
       "count   891.000000  891.000000  891.000000  \n",
       "mean      0.002245    0.006734    0.295174  \n",
       "std       0.047351    0.081830    0.955980  \n",
       "min       0.000000    0.000000   -1.000000  \n",
       "25%       0.000000    0.000000   -1.000000  \n",
       "50%       0.000000    0.000000    1.000000  \n",
       "75%       0.000000    0.000000    1.000000  \n",
       "max       1.000000    1.000000    1.000000  "
      ]
     },
     "execution_count": 32,
     "metadata": {},
     "output_type": "execute_result"
    }
   ],
   "source": [
    "pd.set_option('display.max_columns', 26)\n",
    "x.describe()"
   ]
  },
  {
   "cell_type": "code",
   "execution_count": 33,
   "metadata": {},
   "outputs": [
    {
     "name": "stdout",
     "output_type": "stream",
     "text": [
      "Missing Features:\n",
      "\n",
      "Object Features:\n"
     ]
    },
    {
     "data": {
      "text/plain": [
       "[]"
      ]
     },
     "execution_count": 33,
     "metadata": {},
     "output_type": "execute_result"
    }
   ],
   "source": [
    "to_list_missing(x)\n",
    "print('')\n",
    "to_list_objectis(x)"
   ]
  },
  {
   "cell_type": "code",
   "execution_count": 34,
   "metadata": {},
   "outputs": [],
   "source": [
    "x.to_csv('x_train.csv', index = False)\n",
    "y.to_csv('y_train.csv', index = False)"
   ]
  }
 ],
 "metadata": {
  "kernelspec": {
   "display_name": "Python 3",
   "language": "python",
   "name": "python3"
  },
  "language_info": {
   "codemirror_mode": {
    "name": "ipython",
    "version": 3
   },
   "file_extension": ".py",
   "mimetype": "text/x-python",
   "name": "python",
   "nbconvert_exporter": "python",
   "pygments_lexer": "ipython3",
   "version": "3.7.2"
  }
 },
 "nbformat": 4,
 "nbformat_minor": 2
}
